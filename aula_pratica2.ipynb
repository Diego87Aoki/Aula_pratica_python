{
  "cells": [
    {
      "cell_type": "markdown",
      "metadata": {
        "id": "view-in-github",
        "colab_type": "text"
      },
      "source": [
        "<a href=\"https://colab.research.google.com/github/Diego87Aoki/Aula_pratica_python/blob/main/aula_pratica2.ipynb\" target=\"_parent\"><img src=\"https://colab.research.google.com/assets/colab-badge.svg\" alt=\"Open In Colab\"/></a>"
      ]
    },
    {
      "cell_type": "code",
      "source": [
        "import math\n",
        "\n",
        "# Passo 1: Definir a classe Circulo\n",
        "class Circulo:\n",
        "    # Passo 2: Criar uma constante estática PI\n",
        "    PI = math.pi  # Definindo PI como constante estática\n",
        "\n",
        "    # Passo 3: Criar o construtor padrão e os atributos\n",
        "    def __init__(self, raio=1.0, cor=\"Branco\"):\n",
        "        \"\"\"\n",
        "        Construtor padrão. Se nenhum valor for passado, assume raio=1.0 e cor=Branco.\n",
        "        \"\"\"\n",
        "        self.raio = raio  # Atributo raio\n",
        "        self.cor = cor  # Atributo cor\n",
        "        self.circunferencia = self.calcCircunferencia()  # Calcula a circunferencia ao iniciar\n",
        "        self.area = self.calcArea()  # Calcula a área ao iniciar\n",
        "\n",
        "    # Passo 4: Criar método não estático para calcular a área\n",
        "    def calcArea(self):\n",
        "        return Circulo.PI * (self.raio ** 2)\n",
        "\n",
        "    # Passo 5: Criar método não estático para calcular a circunferência\n",
        "    def calcCircunferencia(self):\n",
        "        return 2 * Circulo.PI * self.raio\n",
        "\n",
        "    # Passo 6: Criar métodos estáticos para calcular área e circunferência sem precisar de instância\n",
        "    @staticmethod\n",
        "    def calcAreaEstatico(raio):\n",
        "        return Circulo.PI * (raio ** 2)\n",
        "\n",
        "    @staticmethod\n",
        "    def calcCircunferenciaEstatico(raio):\n",
        "        return 2 * Circulo.PI * raio\n",
        "\n",
        "    # Passo 7: Criar métodos para obter os valores de raio e cor\n",
        "    def getRaio(self):\n",
        "        return self.raio\n",
        "\n",
        "    def getCor(self):\n",
        "        return self.cor\n",
        "\n",
        "# Passo 8: Criar a função main para testar a classe Circulo\n",
        "def main():\n",
        "    # Criando objetos com diferentes construtores\n",
        "    circulo1 = Circulo()\n",
        "    circulo2 = Circulo(5)\n",
        "    circulo3 = Circulo(7, \"Azul\")\n",
        "\n",
        "    # Passo 9: Testar métodos de instância\n",
        "    print(\"Circulo1 - Raio:\", circulo1.getRaio(), \"Cor:\", circulo1.getCor(), \"Área:\", circulo1.calcArea(), \"Circunferência:\", circulo1.calcCircunferencia())\n",
        "    print(\"Circulo2 - Raio:\", circulo2.getRaio(), \"Cor:\", circulo2.getCor(), \"Área:\", circulo2.calcArea(), \"Circunferência:\", circulo2.calcCircunferencia())\n",
        "    print(\"Circulo3 - Raio:\", circulo3.getRaio(), \"Cor:\", circulo3.getCor(), \"Área:\", circulo3.calcArea(), \"Circunferência:\", circulo3.calcCircunferencia())\n",
        "\n",
        "    # Passo 10: Testar métodos estáticos\n",
        "    print(\"Área (método estático, raio=10):\", Circulo.calcAreaEstatico(10))\n",
        "    print(\"Circunferência (método estático, raio=10):\", Circulo.calcCircunferenciaEstatico(10))\n",
        "\n",
        "# Passo 11: Executar a função main se o script for rodado diretamente\n",
        "if __name__ == \"__main__\":\n",
        "    main()\n"
      ],
      "metadata": {
        "id": "ImPmziGFu83A",
        "outputId": "ee59a713-0355-445e-e724-1cbed47b3f6d",
        "colab": {
          "base_uri": "https://localhost:8080/"
        }
      },
      "execution_count": null,
      "outputs": [
        {
          "output_type": "stream",
          "name": "stdout",
          "text": [
            "Circulo1 - Raio: 1.0 Cor: Branco Área: 3.141592653589793 Circunferência: 6.283185307179586\n",
            "Circulo2 - Raio: 5 Cor: Branco Área: 78.53981633974483 Circunferência: 31.41592653589793\n",
            "Circulo3 - Raio: 7 Cor: Azul Área: 153.93804002589985 Circunferência: 43.982297150257104\n",
            "Área (método estático, raio=10): 314.1592653589793\n",
            "Circunferência (método estático, raio=10): 62.83185307179586\n"
          ]
        }
      ]
    }
  ],
  "metadata": {
    "colab": {
      "toc_visible": true,
      "provenance": [],
      "include_colab_link": true
    },
    "kernelspec": {
      "display_name": "Python 3",
      "name": "python3"
    }
  },
  "nbformat": 4,
  "nbformat_minor": 0
}