{
  "cells": [
    {
      "cell_type": "markdown",
      "metadata": {
        "id": "view-in-github",
        "colab_type": "text"
      },
      "source": [
        "<a href=\"https://colab.research.google.com/github/Diego87Aoki/Aula_pratica_python/blob/main/aula_pratica1.ipynb\" target=\"_parent\"><img src=\"https://colab.research.google.com/assets/colab-badge.svg\" alt=\"Open In Colab\"/></a>"
      ]
    },
    {
      "cell_type": "code",
      "execution_count": null,
      "metadata": {
        "id": "zwFnJsE6vjf8"
      },
      "outputs": [],
      "source": [
        "#Método para calcular o valor absoluto usando if-else\n",
        "def abs_if_else(valor):\n",
        "  if valor < 0:\n",
        "    return -valor\n",
        "  else:\n",
        "    return valor"
      ]
    },
    {
      "cell_type": "code",
      "source": [
        "#Método para calcular valor absoluto usando operador ternário\n",
        "def abs_ternario(valor):\n",
        "  return -valor if valor < 0 else valor"
      ],
      "metadata": {
        "id": "gXc6rPvWR7ky"
      },
      "execution_count": null,
      "outputs": []
    },
    {
      "cell_type": "code",
      "source": [
        "#Método para calcular o somatório de  0 até n usando For\n",
        "def somatorio_for(n):\n",
        "  soma = 0\n",
        "  for i in range(n + 1):\n",
        "    soma += i\n",
        "  return soma"
      ],
      "metadata": {
        "id": "ymCh7cnVR8W5"
      },
      "execution_count": null,
      "outputs": []
    },
    {
      "cell_type": "code",
      "source": [
        "#Método para calcular o somatorio de 0 até n usando While\n",
        "def somatorio_while(n):\n",
        "  soma = 0\n",
        "  i = 0\n",
        "  while i <= n:\n",
        "    soma += i\n",
        "    i += 1\n",
        "  return soma"
      ],
      "metadata": {
        "id": "BSt7iAqqSk_5"
      },
      "execution_count": null,
      "outputs": []
    },
    {
      "cell_type": "code",
      "source": [
        "#Método para calcular o somatorio de 0 até n usando Dowhile (Simulado em Python)\n",
        "def somatorio_dowhile(n):\n",
        "  soma = 0\n",
        "  i = 0\n",
        "  while True:\n",
        "    soma += i\n",
        "    i += 1\n",
        "    if i > n:\n",
        "      break\n",
        "  return soma"
      ],
      "metadata": {
        "id": "7U71O4c9TFsY"
      },
      "execution_count": null,
      "outputs": []
    },
    {
      "cell_type": "code",
      "source": [
        "#Testes\n",
        "print( abs_if_else(-13))\n",
        "print( abs_ternario(-13))\n",
        "print( somatorio_for(20))\n",
        "print( somatorio_while(20))\n",
        "print( somatorio_dowhile(20))"
      ],
      "metadata": {
        "id": "4zg3VmL-UGXH",
        "outputId": "84d4ae7a-48a6-490d-d842-0bf96b61325d",
        "colab": {
          "base_uri": "https://localhost:8080/"
        }
      },
      "execution_count": null,
      "outputs": [
        {
          "output_type": "stream",
          "name": "stdout",
          "text": [
            "13\n",
            "13\n",
            "210\n",
            "210\n",
            "210\n"
          ]
        }
      ]
    }
  ],
  "metadata": {
    "colab": {
      "toc_visible": true,
      "provenance": [],
      "include_colab_link": true
    },
    "kernelspec": {
      "display_name": "Python 3",
      "name": "python3"
    }
  },
  "nbformat": 4,
  "nbformat_minor": 0
}